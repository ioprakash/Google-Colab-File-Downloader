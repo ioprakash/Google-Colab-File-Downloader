{
  "nbformat": 4,
  "nbformat_minor": 0,
  "metadata": {
    "colab": {
      "provenance": [],
      "mount_file_id": "1U85f2OudSkXXQB_vhATjwgmMMnVnWNtw",
      "authorship_tag": "ABX9TyM/+hCEbIviJGZYCHWqcOB5",
      "include_colab_link": true
    },
    "kernelspec": {
      "name": "python3",
      "display_name": "Python 3"
    },
    "language_info": {
      "name": "python"
    }
  },
  "cells": [
    {
      "cell_type": "markdown",
      "metadata": {
        "id": "view-in-github",
        "colab_type": "text"
      },
      "source": [
        "<a href=\"https://colab.research.google.com/github/ioprakash/Google-Colab-File-Downloader/blob/main/Google_Colab_File_Downloader.ipynb\" target=\"_parent\"><img src=\"https://colab.research.google.com/assets/colab-badge.svg\" alt=\"Open In Colab\"/></a>"
      ]
    },
    {
      "cell_type": "code",
      "source": [
        "from google.colab import drive\n",
        "drive.mount(\"/content/drive\")"
      ],
      "metadata": {
        "colab": {
          "base_uri": "https://localhost:8080/"
        },
        "id": "pUzQG4u0NgrW",
        "outputId": "6e51ed47-1d3c-4f83-c7f5-69bc13b5ee12"
      },
      "execution_count": 24,
      "outputs": [
        {
          "output_type": "stream",
          "name": "stdout",
          "text": [
            "Drive already mounted at /content/drive; to attempt to forcibly remount, call drive.mount(\"/content/drive\", force_remount=True).\n"
          ]
        }
      ]
    },
    {
      "cell_type": "code",
      "source": [
        "!pip install requests\n",
        "!pip install tqdm\n",
        "from tqdm import tqdm\n",
        "import os\n",
        "import sys\n",
        "from pathlib import Path\n",
        "import requests\n",
        "import threading\n",
        "\n",
        "def download(url):\n",
        "  try:\n",
        "    filesize = int(requests.head(url).headers[\"Content-Length\"])\n",
        "    filename = os.path.basename(url)\n",
        "    print(filesize,filename)\n",
        "    home_path = Path.home()\n",
        "    home_path = \"\"\n",
        "    sub_path = \"\"\n",
        "    os.makedirs(os.path.join(home_path, sub_path), exist_ok=True)\n",
        "    dl_path = os.path.join(home_path, sub_path, filename)\n",
        "    chunk_size = 1024\n",
        "    with requests.get(url, stream=True) as r, open(dl_path, \"wb\") as f, tqdm(\n",
        "            unit=\"B\", \n",
        "            unit_scale=True,\n",
        "            unit_divisor=1024,\n",
        "            total=filesize, \n",
        "            file=sys.stdout, \n",
        "            desc=filename\n",
        "    ) as progress:\n",
        "        for chunk in r.iter_content(chunk_size=chunk_size):\n",
        "            datasize = f.write(chunk)\n",
        "            progress.update(datasize)\n",
        "  except:\n",
        "    pass"
      ],
      "metadata": {
        "colab": {
          "base_uri": "https://localhost:8080/"
        },
        "id": "7YDzt-SdNj3L",
        "outputId": "5040d016-1924-42ca-f1a9-8dc68f73e562"
      },
      "execution_count": 26,
      "outputs": [
        {
          "output_type": "stream",
          "name": "stdout",
          "text": [
            "Looking in indexes: https://pypi.org/simple, https://us-python.pkg.dev/colab-wheels/public/simple/\n",
            "Requirement already satisfied: requests in /usr/local/lib/python3.8/dist-packages (2.25.1)\n",
            "Requirement already satisfied: certifi>=2017.4.17 in /usr/local/lib/python3.8/dist-packages (from requests) (2022.12.7)\n",
            "Requirement already satisfied: urllib3<1.27,>=1.21.1 in /usr/local/lib/python3.8/dist-packages (from requests) (1.24.3)\n",
            "Requirement already satisfied: idna<3,>=2.5 in /usr/local/lib/python3.8/dist-packages (from requests) (2.10)\n",
            "Requirement already satisfied: chardet<5,>=3.0.2 in /usr/local/lib/python3.8/dist-packages (from requests) (4.0.0)\n",
            "Looking in indexes: https://pypi.org/simple, https://us-python.pkg.dev/colab-wheels/public/simple/\n",
            "Requirement already satisfied: tqdm in /usr/local/lib/python3.8/dist-packages (4.64.1)\n"
          ]
        }
      ]
    },
    {
      "cell_type": "code",
      "source": [
        "urls = []\n",
        "while True:\n",
        "  url = input(\"Enter file URL : \")\n",
        "  if url.lower()!=\"exit\":\n",
        "    urls.append(url)\n",
        "  else:\n",
        "    break"
      ],
      "metadata": {
        "colab": {
          "base_uri": "https://localhost:8080/"
        },
        "id": "ntr7aK6NN8qN",
        "outputId": "10f1f0f1-beee-4cf1-c034-b0a53464dc73"
      },
      "execution_count": 27,
      "outputs": [
        {
          "name": "stdout",
          "output_type": "stream",
          "text": [
            "Enter file URL : http://centos.excellmedia.net/7.9.2009/isos/x86_64/CentOS-7-x86_64-Minimal-2009.iso\n",
            "Enter file URL : exit\n"
          ]
        }
      ]
    },
    {
      "cell_type": "code",
      "source": [
        "threads = []\n",
        "for i in range(len(urls)):\n",
        "    t=threading.Thread(target=download,args=[urls[i]])\n",
        "    threads.append(t)\n",
        "    t.start()\n",
        "for i in threads:\n",
        "    i.join()"
      ],
      "metadata": {
        "colab": {
          "base_uri": "https://localhost:8080/"
        },
        "id": "asvMgFwXN92a",
        "outputId": "8f282052-226a-4059-d756-bbc44e50df9d"
      },
      "execution_count": 28,
      "outputs": [
        {
          "output_type": "stream",
          "name": "stdout",
          "text": [
            "1020264448 CentOS-7-x86_64-Minimal-2009.iso\n"
          ]
        }
      ]
    }
  ]
}